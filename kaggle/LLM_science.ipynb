{
 "cells": [
  {
   "cell_type": "code",
   "execution_count": 6,
   "metadata": {},
   "outputs": [],
   "source": [
    "import numpy as np\n",
    "import pandas as pd\n",
    "from tqdm import tqdm"
   ]
  },
  {
   "cell_type": "code",
   "execution_count": 7,
   "metadata": {},
   "outputs": [],
   "source": [
    "train_df = pd.read_csv(\"/home/albay/djs/kaggle/data/LLM Science exam/train.csv\")\n",
    "test_df = pd.read_csv(\"/home/albay/djs/kaggle/data/LLM Science exam/test.csv\")"
   ]
  },
  {
   "cell_type": "code",
   "execution_count": 24,
   "metadata": {},
   "outputs": [
    {
     "name": "stdout",
     "output_type": "stream",
     "text": [
      "What is the significance of regularization in terms of renormalization problems in physics?\n",
      "A. Regularizing the mass-energy of an electron with a finite radius can theoretically simplify calculations involving infinities or singularities, thereby providing explanations that would otherwise be impossible to achieve.\n",
      "B. Regularizing the mass-energy of an electron with an infinite radius allows for the breakdown of a theory that is valid under one set of conditions. This approach can be applied to other renormalization problems as well.\n",
      "C. Regularizing the mass-energy of an electron with a finite radius is a means of demonstrating that a system below a certain size can be explained without the need for further calculations. This approach can be applied to other renormalization problems as well.\n",
      "D. Regularizing the mass-energy of an electron with an infinite radius can be used to provide a highly accurate description of a system under specific conditions. This approach can be transferred to other renormalization problems as well.\n",
      "E. Regularizing the mass-energy of an electron with an infinite radius is essential for explaining how a system below a certain size operates. This approach can be applied to other renormalization problems as well.\n",
      "only give me the answer option\n"
     ]
    }
   ],
   "source": [
    "question = []\n",
    "for i in range(len(test_df[\"id\"])):\n",
    "    A = \"A. \"+test_df[\"A\"][i] + \"\\n\"\n",
    "    B = \"B. \"+test_df[\"B\"][i] + \"\\n\"\n",
    "    C = \"C. \"+test_df[\"C\"][i] + \"\\n\"\n",
    "    D = \"D. \"+test_df[\"D\"][i] + \"\\n\"\n",
    "    E = \"E. \"+test_df[\"E\"][i] + \"\\n\"\n",
    "    prompt = \"only give me the answer option\"\n",
    "    question.append(test_df[\"prompt\"][i] + \"\\n\" + A + B + C + D + E + prompt)\n",
    "print(question[3])"
   ]
  },
  {
   "cell_type": "code",
   "execution_count": null,
   "metadata": {},
   "outputs": [],
   "source": [
    "from transformers import AutoTokenizer\n",
    "\n",
    "tokenizer = AutoTokenizer.from_pretrained(\"bert-base-uncased\")\n",
    "\n"
   ]
  },
  {
   "cell_type": "code",
   "execution_count": null,
   "metadata": {},
   "outputs": [],
   "source": [
    "new_train = train_df.drop(axis=0, columns=\"id\")\n",
    "colName = {'prompt':'Context sentence', 'A':'Choice 1', 'B':'Choice 2', 'C':'Choice 3', 'D':'Choice 4', 'E':'Choice 5', 'answer':'label'}"
   ]
  },
  {
   "cell_type": "code",
   "execution_count": null,
   "metadata": {},
   "outputs": [],
   "source": [
    "new_train_rename = new_train.rename(columns=colName)\n",
    "new_train_rename['label'] = new_train_rename['label'].replace(\"A\",\"1\").replace(\"B\",\"2\").replace(\"C\",\"3\").replace(\"D\", \"4\").replace(\"E\",\"5\")\n",
    "new_train_rename.to_csv(\"/home/albay/djs/kaggle/data/LLM Science exam/new_train.csv\", index=False)\n"
   ]
  },
  {
   "cell_type": "code",
   "execution_count": null,
   "metadata": {},
   "outputs": [],
   "source": [
    "new_test = test_df.drop(axis=0, columns=\"id\")\n",
    "new_test_rename = new_test.rename(columns=colName)\n",
    "new_test_rename.to_csv(\"/home/albay/djs/kaggle/data/LLM Science exam/new_test.csv\", index=False)\n"
   ]
  },
  {
   "cell_type": "code",
   "execution_count": 12,
   "metadata": {},
   "outputs": [],
   "source": [
    "sample_submission = pd.read_csv(\"/home/albay/djs/kaggle/data/LLM Science exam/sample_submission.csv\")"
   ]
  },
  {
   "cell_type": "code",
   "execution_count": 13,
   "metadata": {},
   "outputs": [],
   "source": [
    "for q in tqdm(question):\n",
    "    # print(ask(model, tokenizer, q))[:1]\n",
    "    sample_submission[\"prediction\"] = ask(model, tokenizer, q)[:1]"
   ]
  },
  {
   "cell_type": "code",
   "execution_count": 14,
   "metadata": {},
   "outputs": [
    {
     "data": {
      "text/html": [
       "<div>\n",
       "<style scoped>\n",
       "    .dataframe tbody tr th:only-of-type {\n",
       "        vertical-align: middle;\n",
       "    }\n",
       "\n",
       "    .dataframe tbody tr th {\n",
       "        vertical-align: top;\n",
       "    }\n",
       "\n",
       "    .dataframe thead th {\n",
       "        text-align: right;\n",
       "    }\n",
       "</style>\n",
       "<table border=\"1\" class=\"dataframe\">\n",
       "  <thead>\n",
       "    <tr style=\"text-align: right;\">\n",
       "      <th></th>\n",
       "      <th>id</th>\n",
       "      <th>prediction</th>\n",
       "    </tr>\n",
       "  </thead>\n",
       "  <tbody>\n",
       "    <tr>\n",
       "      <th>0</th>\n",
       "      <td>0</td>\n",
       "      <td>E</td>\n",
       "    </tr>\n",
       "    <tr>\n",
       "      <th>1</th>\n",
       "      <td>1</td>\n",
       "      <td>E</td>\n",
       "    </tr>\n",
       "    <tr>\n",
       "      <th>2</th>\n",
       "      <td>2</td>\n",
       "      <td>E</td>\n",
       "    </tr>\n",
       "    <tr>\n",
       "      <th>3</th>\n",
       "      <td>3</td>\n",
       "      <td>E</td>\n",
       "    </tr>\n",
       "    <tr>\n",
       "      <th>4</th>\n",
       "      <td>4</td>\n",
       "      <td>E</td>\n",
       "    </tr>\n",
       "  </tbody>\n",
       "</table>\n",
       "</div>"
      ],
      "text/plain": [
       "   id prediction\n",
       "0   0          E\n",
       "1   1          E\n",
       "2   2          E\n",
       "3   3          E\n",
       "4   4          E"
      ]
     },
     "execution_count": 14,
     "metadata": {},
     "output_type": "execute_result"
    }
   ],
   "source": [
    "sample_submission.head()"
   ]
  },
  {
   "cell_type": "code",
   "execution_count": 15,
   "metadata": {},
   "outputs": [],
   "source": [
    "sample_submission.to_csv(\"/home/albay/djs/kaggle/data/LLM Science exam/submission.csv\", index=False)"
   ]
  }
 ],
 "metadata": {
  "kernelspec": {
   "display_name": "Python 3",
   "language": "python",
   "name": "python3"
  },
  "language_info": {
   "codemirror_mode": {
    "name": "ipython",
    "version": 3
   },
   "file_extension": ".py",
   "mimetype": "text/x-python",
   "name": "python",
   "nbconvert_exporter": "python",
   "pygments_lexer": "ipython3",
   "version": "3.8.16"
  },
  "orig_nbformat": 4
 },
 "nbformat": 4,
 "nbformat_minor": 2
}
